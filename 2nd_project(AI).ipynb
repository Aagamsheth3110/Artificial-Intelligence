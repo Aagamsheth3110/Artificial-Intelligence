{
  "nbformat": 4,
  "nbformat_minor": 0,
  "metadata": {
    "colab": {
      "name": "2nd project(AI).ipynb",
      "provenance": [],
      "collapsed_sections": [],
      "authorship_tag": "ABX9TyOSJ1GeXuHC83EQ0KTzW46F",
      "include_colab_link": true
    },
    "kernelspec": {
      "name": "python3",
      "display_name": "Python 3"
    },
    "language_info": {
      "name": "python"
    }
  },
  "cells": [
    {
      "cell_type": "markdown",
      "metadata": {
        "id": "view-in-github",
        "colab_type": "text"
      },
      "source": [
        "<a href=\"https://colab.research.google.com/github/Aagamsheth3110/Artificial-Intelligence/blob/main/2nd_project(AI).ipynb\" target=\"_parent\"><img src=\"https://colab.research.google.com/assets/colab-badge.svg\" alt=\"Open In Colab\"/></a>"
      ]
    },
    {
      "cell_type": "code",
      "source": [
        "#2nd project\n",
        "\n",
        "n = int(input(\"enter the no for Fibonaci Sequence :\"))\n",
        "print(\"Fibonacci sequence is:\")\n",
        "a = 0 \n",
        "b = 1\n",
        "i = 0\n",
        "while i<n:\n",
        "  c = a + b\n",
        "  a = b\n",
        "  b = c\n",
        "  i = i + 1\n",
        "  print(a)"
      ],
      "metadata": {
        "id": "P5r6OCDPEFBM",
        "colab": {
          "base_uri": "https://localhost:8080/"
        },
        "outputId": "856f0113-700e-44b4-f0c9-8d3a85e04fcc"
      },
      "execution_count": 1,
      "outputs": [
        {
          "output_type": "stream",
          "name": "stdout",
          "text": [
            "enter the no for Fibonaci Sequence :12\n",
            "Fibonacci sequence is:\n",
            "1\n",
            "1\n",
            "2\n",
            "3\n",
            "5\n",
            "8\n",
            "13\n",
            "21\n",
            "34\n",
            "55\n",
            "89\n",
            "144\n"
          ]
        }
      ]
    },
    {
      "cell_type": "code",
      "source": [
        ""
      ],
      "metadata": {
        "id": "qLpXJfdsEbQN"
      },
      "execution_count": null,
      "outputs": []
    }
  ]
}