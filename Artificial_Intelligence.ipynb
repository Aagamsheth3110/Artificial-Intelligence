{
  "nbformat": 4,
  "nbformat_minor": 0,
  "metadata": {
    "colab": {
      "name": "Artificial Intelligence.ipynb",
      "provenance": [],
      "collapsed_sections": [],
      "authorship_tag": "ABX9TyP4Fmho20Jyqx46l/MAzRWX",
      "include_colab_link": true
    },
    "kernelspec": {
      "name": "python3",
      "display_name": "Python 3"
    },
    "language_info": {
      "name": "python"
    }
  },
  "cells": [
    {
      "cell_type": "markdown",
      "metadata": {
        "id": "view-in-github",
        "colab_type": "text"
      },
      "source": [
        "<a href=\"https://colab.research.google.com/github/Aagamsheth3110/Artificial-Intelligence/blob/main/Artificial_Intelligence.ipynb\" target=\"_parent\"><img src=\"https://colab.research.google.com/assets/colab-badge.svg\" alt=\"Open In Colab\"/></a>"
      ]
    },
    {
      "cell_type": "code",
      "execution_count": 1,
      "metadata": {
        "colab": {
          "base_uri": "https://localhost:8080/"
        },
        "id": "CjYTQXlVKM6y",
        "outputId": "3d7157e0-f82e-4c97-e339-9aa9c277c326"
      },
      "outputs": [
        {
          "output_type": "stream",
          "name": "stdout",
          "text": [
            "Hello World!\n",
            "Hey captain \n",
            "Captain Aviral is Best mentor in my whole Journey of Mycaptain\n",
            "Thnak you Captain for your Support...\n"
          ]
        }
      ],
      "source": [
        "#print Function is a Default function in python \n",
        "#print Hello world in python \n",
        "#python is a Easy & Simple language\n",
        "#python is a free open source\n",
        "#print is default Function in python.\n",
        "\n",
        "\n",
        "print(\"Hello World!\")  #double inverted coma.\n",
        "print(\"Hey captain \")\n",
        "print('Captain Aviral is Best mentor in my whole Journey of Mycaptain') #sigle inverted coma.\n",
        "print('Thnak you Captain for your Support...')\n"
      ]
    }
  ]
}