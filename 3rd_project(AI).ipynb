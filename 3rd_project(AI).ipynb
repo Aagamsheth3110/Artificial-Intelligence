{
  "nbformat": 4,
  "nbformat_minor": 0,
  "metadata": {
    "colab": {
      "name": "3rd project(AI).ipynb",
      "provenance": [],
      "authorship_tag": "ABX9TyPdcVkH+fjmWwyeu8D2stLe",
      "include_colab_link": true
    },
    "kernelspec": {
      "name": "python3",
      "display_name": "Python 3"
    },
    "language_info": {
      "name": "python"
    }
  },
  "cells": [
    {
      "cell_type": "markdown",
      "metadata": {
        "id": "view-in-github",
        "colab_type": "text"
      },
      "source": [
        "<a href=\"https://colab.research.google.com/github/Aagamsheth3110/Artificial-Intelligence/blob/main/3rd_project(AI).ipynb\" target=\"_parent\"><img src=\"https://colab.research.google.com/assets/colab-badge.svg\" alt=\"Open In Colab\"/></a>"
      ]
    },
    {
      "cell_type": "code",
      "source": [
        "x = [12, -7, 5, 64, -14]\n",
        "print(\"Input: list1 = \",x)\n",
        "\n",
        "y = list(filter(lambda a:a>0, x))\n",
        "print(\"Output  :\", y)"
      ],
      "metadata": {
        "colab": {
          "base_uri": "https://localhost:8080/"
        },
        "id": "XQdFHr75xDz4",
        "outputId": "bc88fdac-e8e1-458e-a11a-1bd26dc890f7"
      },
      "execution_count": 11,
      "outputs": [
        {
          "output_type": "stream",
          "name": "stdout",
          "text": [
            "Input: list1 =  [12, -7, 5, 64, -14]\n",
            "Output  : [12, 5, 64]\n"
          ]
        }
      ]
    },
    {
      "cell_type": "code",
      "source": [
        ""
      ],
      "metadata": {
        "id": "98wLQQ1Z0A2I"
      },
      "execution_count": null,
      "outputs": []
    },
    {
      "cell_type": "code",
      "source": [
        "x = [12, 14, -95, 3]\n",
        "print(\"Input: list2 = \", x)\n",
        "\n",
        "y = list(filter(lambda a:a>0, x))\n",
        "print(\"Output :\", y)"
      ],
      "metadata": {
        "colab": {
          "base_uri": "https://localhost:8080/"
        },
        "id": "c5PyizO-y837",
        "outputId": "22f9fb7a-916c-4cfd-b1b6-78eba2548a75"
      },
      "execution_count": 18,
      "outputs": [
        {
          "output_type": "stream",
          "name": "stdout",
          "text": [
            "Input: list2 =  [12, 14, -95, 3]\n",
            "Output : [12, 14, 3]\n"
          ]
        }
      ]
    },
    {
      "cell_type": "code",
      "source": [
        ""
      ],
      "metadata": {
        "id": "X5xgCk0vz_eQ"
      },
      "execution_count": null,
      "outputs": []
    }
  ]
}