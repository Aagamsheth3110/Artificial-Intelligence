{
  "nbformat": 4,
  "nbformat_minor": 0,
  "metadata": {
    "colab": {
      "name": "4th project(AI).ipynb",
      "provenance": [],
      "collapsed_sections": [],
      "authorship_tag": "ABX9TyOrJJnWQrvW5HnzBHM/TOaL",
      "include_colab_link": true
    },
    "kernelspec": {
      "name": "python3",
      "display_name": "Python 3"
    },
    "language_info": {
      "name": "python"
    }
  },
  "cells": [
    {
      "cell_type": "markdown",
      "metadata": {
        "id": "view-in-github",
        "colab_type": "text"
      },
      "source": [
        "<a href=\"https://colab.research.google.com/github/Aagamsheth3110/Artificial-Intelligence/blob/main/4th_project(AI).ipynb\" target=\"_parent\"><img src=\"https://colab.research.google.com/assets/colab-badge.svg\" alt=\"Open In Colab\"/></a>"
      ]
    },
    {
      "cell_type": "code",
      "source": [
        "#write a python programme to illustrate to different set operation\n",
        "\n",
        "#Union,Intersection,Difference & Symmetric Difference\n",
        "\n",
        "#Union of E and N is {0, 1, 2, 3, 4, 5, 6, 8} Intersection of E and N is {2, 4} \n",
        "#Difference of E and N is {8, 0, 6} Symmetric difference of E and N is {0, 1, 3, 5, 6, 8}..\n",
        "\n",
        "#define two set variable\n",
        "E = {0, 2, 4, 6, 8}\n",
        "N = {1, 2, 3, 4, 5}\n",
        "\n",
        "#set Union\n",
        "print(\"Union of E & N is\",E | N)\n",
        "\n",
        "#set Intersection\n",
        "print(\"Intersection of E & N is\",E & N)\n",
        "\n",
        "#set Difference\n",
        "print(\"Difference of E & N is\",E - N)\n",
        "\n",
        "#set Symmetric Difference\n",
        "print(\"Symmetric Difference of E & N is\",E ^ N)"
      ],
      "metadata": {
        "colab": {
          "base_uri": "https://localhost:8080/"
        },
        "id": "l5AbKptetWzd",
        "outputId": "cdd42832-22c3-47c1-c7b7-38a70c26b530"
      },
      "execution_count": 1,
      "outputs": [
        {
          "output_type": "stream",
          "name": "stdout",
          "text": [
            "Union of E & N is {0, 1, 2, 3, 4, 5, 6, 8}\n",
            "Intersection of E & N is {2, 4}\n",
            "Difference of E & N is {0, 8, 6}\n",
            "Symmetric Difference of E & N is {0, 1, 3, 5, 6, 8}\n"
          ]
        }
      ]
    },
    {
      "cell_type": "code",
      "source": [
        ""
      ],
      "metadata": {
        "id": "MTi65OZrv9ZG"
      },
      "execution_count": null,
      "outputs": []
    }
  ]
}