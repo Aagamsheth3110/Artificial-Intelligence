{
  "nbformat": 4,
  "nbformat_minor": 0,
  "metadata": {
    "colab": {
      "name": "1st project(AI).ipynb",
      "provenance": [],
      "collapsed_sections": [],
      "authorship_tag": "ABX9TyOrbZakqvPJ0drreSULbKl3",
      "include_colab_link": true
    },
    "kernelspec": {
      "name": "python3",
      "display_name": "Python 3"
    },
    "language_info": {
      "name": "python"
    }
  },
  "cells": [
    {
      "cell_type": "markdown",
      "metadata": {
        "id": "view-in-github",
        "colab_type": "text"
      },
      "source": [
        "<a href=\"https://colab.research.google.com/github/Aagamsheth3110/Artificial-Intelligence/blob/main/1st_project(AI).ipynb\" target=\"_parent\"><img src=\"https://colab.research.google.com/assets/colab-badge.svg\" alt=\"Open In Colab\"/></a>"
      ]
    },
    {
      "cell_type": "code",
      "execution_count": null,
      "metadata": {
        "id": "CjYTQXlVKM6y"
      },
      "outputs": [],
      "source": [
        "#1st project\n",
        "\n",
        "#print Function is a Default function in python \n",
        "#print Hello world in python \n",
        "#python is a Easy & Simple language\n",
        "#python is a free open source\n",
        "#print is default Function in python.\n",
        "\n",
        "\n",
        "print(\"Hello World!\")  #double inverted coma.\n",
        "print(\"Hey captain \")\n",
        "print('Captain Aviral is Best mentor in my whole Journey of Mycaptain') #sigle inverted coma.\n",
        "print('Thnak you Captain for your Support...')\n"
      ]
    },
    {
      "cell_type": "code",
      "source": [
        ""
      ],
      "metadata": {
        "id": "P5r6OCDPEFBM"
      },
      "execution_count": null,
      "outputs": []
    }
  ]
}